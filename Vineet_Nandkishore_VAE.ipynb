{
  "nbformat": 4,
  "nbformat_minor": 0,
  "metadata": {
    "colab": {
      "name": "Vineet_Nandkishore_VAE.ipynb",
      "version": "0.3.2",
      "provenance": []
    },
    "kernelspec": {
      "name": "python3",
      "display_name": "Python 3"
    },
    "accelerator": "GPU"
  },
  "cells": [
    {
      "metadata": {
        "id": "UFmrFyxLdvFV",
        "colab_type": "code",
        "colab": {}
      },
      "cell_type": "code",
      "source": [
        "import pandas as pd\n",
        "from numpy import array\n",
        "import numpy as np\n",
        "import matplotlib\n",
        "import matplotlib.pyplot as plt\n",
        "import matplotlib.patches as mpatches\n",
        "from keras.datasets import mnist\n",
        "from keras.models import Sequential\n",
        "\n",
        "%matplotlib inline\n",
        "\n",
        "from scipy.stats import norm\n",
        "from sklearn.model_selection import train_test_split\n",
        "from keras.optimizers import RMSprop\n",
        "from keras.utils.np_utils import to_categorical\n",
        "\n",
        "import keras\n",
        "from keras import layers\n",
        "from keras.layers import Dense, Dropout, Flatten, Conv2D, MaxPool2D\n",
        "from keras.models import Model\n",
        "from keras import metrics\n",
        "from keras import backend as K\n",
        "\n",
        "K.clear_session()\n",
        "\n",
        "np.random.seed(237)\n"
      ],
      "execution_count": 0,
      "outputs": []
    },
    {
      "metadata": {
        "id": "azPiv9O0eFWB",
        "colab_type": "code",
        "outputId": "dfdb7e35-efaf-4df6-ae74-983a00eef187",
        "colab": {
          "base_uri": "https://localhost:8080/",
          "height": 69
        }
      },
      "cell_type": "code",
      "source": [
        "(x_train, Y_train), (x_test, Y_test) = mnist.load_data()\n",
        "print(x_train.shape)\n",
        "\n",
        "\n",
        "X_train, X_test, y_train, y_test = train_test_split(x_train, Y_train, test_size=0.30, random_state=42)\n",
        "X1_train, X1_test, y1_train, y1_test = train_test_split(X_test, y_test, test_size=0.33, random_state=42)\n",
        "\n",
        "# Partion 1: X_train, y_train\n",
        "# Partion 2: X1_train, y1_train\n",
        "# Partion 3: X1_test, y1_test\n",
        "y_train = to_categorical(y_train, num_classes = 10)\n",
        "print(y_train.shape)\n",
        "y1_train = to_categorical(y1_train, num_classes = 10)\n",
        "\n",
        "y1_test = to_categorical(y1_test, num_classes = 10)\n",
        "\n",
        "\n",
        "print(X1_test.shape)\n",
        "X_train = X_train.astype('float32') / 255.\n",
        "X_train = X_train.reshape(-1,28,28,1)\n",
        "\n",
        "X_test = X_test.astype('float32') / 255.\n",
        "X_test = X_test.reshape(-1,28,28,1)\n",
        "\n",
        "X1_train = X1_train.astype('float32') / 255.\n",
        "X1_train = X1_train.reshape(-1,28,28,1)\n",
        "\n",
        "X1_test = X1_test.astype('float32') / 255.\n",
        "X1_test = X1_test.reshape(-1,28,28,1)\n"
      ],
      "execution_count": 0,
      "outputs": [
        {
          "output_type": "stream",
          "text": [
            "(60000, 28, 28)\n",
            "(42000, 10)\n",
            "(5940, 28, 28)\n"
          ],
          "name": "stdout"
        }
      ]
    },
    {
      "metadata": {
        "id": "shbLxYCOukDf",
        "colab_type": "code",
        "colab": {}
      },
      "cell_type": "code",
      "source": [
        ""
      ],
      "execution_count": 0,
      "outputs": []
    },
    {
      "metadata": {
        "id": "L2ljRkTGfStC",
        "colab_type": "code",
        "outputId": "a29b0d9b-2fdc-401b-b9fe-5eed51b8e42e",
        "colab": {
          "base_uri": "https://localhost:8080/",
          "height": 268
        }
      },
      "cell_type": "code",
      "source": [
        "plt.figure(1)\n",
        "plt.subplot(221)\n",
        "plt.imshow(X_train[13][:,:,0])\n",
        "\n",
        "plt.subplot(222)\n",
        "plt.imshow(X_train[690][:,:,0])\n",
        "\n",
        "plt.subplot(223)\n",
        "plt.imshow(X_train[2375][:,:,0])\n",
        "\n",
        "plt.subplot(224)\n",
        "plt.imshow(X_train[41000][:,:,0])\n",
        "plt.show()"
      ],
      "execution_count": 0,
      "outputs": [
        {
          "output_type": "display_data",
          "data": {
            "image/png": "[encoded data removed]",
            "text/plain": [
              "<Figure size 432x288 with 4 Axes>"
            ]
          },
          "metadata": {
            "tags": []
          }
        }
      ]
    },
    {
      "metadata": {
        "id": "G9H6iwphfcBi",
        "colab_type": "code",
        "colab": {}
      },
      "cell_type": "code",
      "source": [
        "img_shape = (28, 28, 1)    # for MNIST\n",
        "batch_size = 16\n",
        "latent_dim = 32  # Number of latent dimension parameters\n",
        "\n",
        "# Encoder architecture: Input -> Conv2D*4 -> Flatten -> Dense\n",
        "input_img = keras.Input(shape=img_shape)\n",
        "\n",
        "x = layers.Conv2D(32, 3, padding='same', activation='relu')(input_img)\n",
        "x = layers.Conv2D(64, 3, padding='same', activation='relu', strides=(2, 2))(x)\n",
        "x = layers.Conv2D(64, 3, padding='same', activation='relu')(x)\n",
        "x = layers.Conv2D(64, 3, padding='same', activation='relu')(x)\n",
        "\n",
        "# need to know the shape of the network here for the decoder\n",
        "shape_before_flattening = K.int_shape(x)\n",
        "\n",
        "x = layers.Flatten()(x)\n",
        "x = layers.Dense(latent_dim, activation='relu')(x)\n",
        "\n",
        "\n",
        "\n",
        "# Two outputs, latent mean and (log)variance\n",
        "z_mu = layers.Dense(latent_dim)(x)\n",
        "z_log_sigma = layers.Dense(latent_dim)(x)\n",
        "\n",
        "encoder = Model(input_img, x)"
      ],
      "execution_count": 0,
      "outputs": []
    },
    {
      "metadata": {
        "id": "pD7UetEEfi3i",
        "colab_type": "code",
        "colab": {}
      },
      "cell_type": "code",
      "source": [
        "\n",
        "# sampling function\n",
        "def sampling(args):\n",
        "    z_mu, z_log_sigma = args\n",
        "    epsilon = K.random_normal(shape=(K.shape(z_mu)[0], latent_dim), mean=0., stddev=1.)\n",
        "    return z_mu + K.exp(z_log_sigma) * epsilon\n",
        "\n",
        "# sample vector from the latent distribution\n",
        "z = layers.Lambda(sampling)([z_mu, z_log_sigma])\n",
        "\n"
      ],
      "execution_count": 0,
      "outputs": []
    },
    {
      "metadata": {
        "id": "j4MDLAXKfmLy",
        "colab_type": "code",
        "colab": {}
      },
      "cell_type": "code",
      "source": [
        "# decoder takes the latent distribution sample as input\n",
        "decoder_input = layers.Input(K.int_shape(z)[1:])\n",
        "\n",
        "# Expand to 784 total pixels\n",
        "x = layers.Dense(np.prod(shape_before_flattening[1:]),\n",
        "                 activation='relu')(decoder_input)\n",
        "\n",
        "x = layers.Reshape(shape_before_flattening[1:])(x)\n",
        "\n",
        "x = layers.Conv2DTranspose(32, 3, padding='same', activation='relu', strides=(2, 2))(x)\n",
        "x = layers.Conv2D(1, 3, padding='same', activation='sigmoid')(x)\n",
        "\n",
        "# decoder model statement\n",
        "decoder = Model(decoder_input, x)\n",
        "\n",
        "# apply the decoder to the sample from the latent distribution\n",
        "z_decoded = decoder(z)"
      ],
      "execution_count": 0,
      "outputs": []
    },
    {
      "metadata": {
        "id": "0v1JDqfAfpQY",
        "colab_type": "code",
        "colab": {}
      },
      "cell_type": "code",
      "source": [
        "# construct a custom layer to calculate the loss\n",
        "class CustomVariationalLayer(keras.layers.Layer):\n",
        "\n",
        "    def vae_loss(self, x, z_decoded):\n",
        "        x = K.flatten(x)\n",
        "        z_decoded = K.flatten(z_decoded)\n",
        "        # Reconstruction loss\n",
        "        xent_loss = keras.metrics.binary_crossentropy(x, z_decoded)\n",
        "        # KL divergence\n",
        "        kl_loss = -5e-4 * K.mean(1 + z_log_sigma - K.square(z_mu) - K.exp(z_log_sigma), axis=-1)\n",
        "        return K.mean(xent_loss + kl_loss)\n",
        "\n",
        "    # adds the custom loss to the class\n",
        "    def call(self, inputs):\n",
        "        x = inputs[0]\n",
        "        z_decoded = inputs[1]\n",
        "        loss = self.vae_loss(x, z_decoded)\n",
        "        self.add_loss(loss, inputs=inputs)\n",
        "        return x\n",
        "\n",
        "# apply the custom loss to the input images and the decoded latent distribution sample\n",
        "y = CustomVariationalLayer()([input_img, z_decoded])"
      ],
      "execution_count": 0,
      "outputs": []
    },
    {
      "metadata": {
        "id": "2kQrWKpkfuXb",
        "colab_type": "code",
        "outputId": "08b3d31f-fd9a-4580-ecc0-54366a294762",
        "colab": {
          "base_uri": "https://localhost:8080/",
          "height": 590
        }
      },
      "cell_type": "code",
      "source": [
        "# VAE model statement\n",
        "vae = Model(input_img, y)\n",
        "vae.compile(optimizer='rmsprop', loss=None, metrics = ['accuracy'])\n",
        "vae.summary()"
      ],
      "execution_count": 0,
      "outputs": [
        {
          "output_type": "stream",
          "text": [
            "__________________________________________________________________________________________________\n",
            "Layer (type)                    Output Shape         Param #     Connected to                     \n",
            "==================================================================================================\n",
            "input_1 (InputLayer)            (None, 28, 28, 1)    0                                            \n",
            "__________________________________________________________________________________________________\n",
            "conv2d_1 (Conv2D)               (None, 28, 28, 32)   320         input_1[0][0]                    \n",
            "__________________________________________________________________________________________________\n",
            "conv2d_2 (Conv2D)               (None, 14, 14, 64)   18496       conv2d_1[0][0]                   \n",
            "__________________________________________________________________________________________________\n",
            "conv2d_3 (Conv2D)               (None, 14, 14, 64)   36928       conv2d_2[0][0]                   \n",
            "__________________________________________________________________________________________________\n",
            "conv2d_4 (Conv2D)               (None, 14, 14, 64)   36928       conv2d_3[0][0]                   \n",
            "__________________________________________________________________________________________________\n",
            "flatten_1 (Flatten)             (None, 12544)        0           conv2d_4[0][0]                   \n",
            "__________________________________________________________________________________________________\n",
            "dense_1 (Dense)                 (None, 32)           401440      flatten_1[0][0]                  \n",
            "__________________________________________________________________________________________________\n",
            "dense_2 (Dense)                 (None, 32)           1056        dense_1[0][0]                    \n",
            "__________________________________________________________________________________________________\n",
            "dense_3 (Dense)                 (None, 32)           1056        dense_1[0][0]                    \n",
            "__________________________________________________________________________________________________\n",
            "lambda_1 (Lambda)               (None, 32)           0           dense_2[0][0]                    \n",
            "                                                                 dense_3[0][0]                    \n",
            "__________________________________________________________________________________________________\n",
            "model_2 (Model)                 (None, 28, 28, 1)    432705      lambda_1[0][0]                   \n",
            "__________________________________________________________________________________________________\n",
            "custom_variational_layer_1 (Cus [(None, 28, 28, 1),  0           input_1[0][0]                    \n",
            "                                                                 model_2[1][0]                    \n",
            "==================================================================================================\n",
            "Total params: 928,929\n",
            "Trainable params: 928,929\n",
            "Non-trainable params: 0\n",
            "__________________________________________________________________________________________________\n"
          ],
          "name": "stdout"
        }
      ]
    },
    {
      "metadata": {
        "id": "tGnMK8GZf0tp",
        "colab_type": "code",
        "outputId": "5215b940-6d94-4686-81c6-b2e530d49469",
        "colab": {
          "base_uri": "https://localhost:8080/",
          "height": 208
        }
      },
      "cell_type": "code",
      "source": [
        "vae.fit(x=X_train, y=None, shuffle=True, epochs=5, batch_size=batch_size)"
      ],
      "execution_count": 0,
      "outputs": [
        {
          "output_type": "stream",
          "text": [
            "Epoch 1/5\n",
            "42000/42000 [==============================] - 37s 892us/step - loss: 0.1446\n",
            "Epoch 2/5\n",
            "42000/42000 [==============================] - 37s 871us/step - loss: 0.1032\n",
            "Epoch 3/5\n",
            "42000/42000 [==============================] - 37s 871us/step - loss: 0.0981\n",
            "Epoch 4/5\n",
            "42000/42000 [==============================] - 36s 860us/step - loss: 0.0956\n",
            "Epoch 5/5\n",
            "42000/42000 [==============================] - 36s 851us/step - loss: 0.0940\n"
          ],
          "name": "stdout"
        },
        {
          "output_type": "execute_result",
          "data": {
            "text/plain": [
              "<keras.callbacks.History at 0x7fe740216c50>"
            ]
          },
          "metadata": {
            "tags": []
          },
          "execution_count": 15
        }
      ]
    },
    {
      "metadata": {
        "id": "Dsw-4dTsPE5q",
        "colab_type": "text"
      },
      "cell_type": "markdown",
      "source": [
        "**Loss goes to 0.0983 with 4 CNN and 3 Dense Layers that form the encoder and decoder. The accuracy increases significantly with the addition of more Conv layers to the architecture.\n",
        "**"
      ]
    },
    {
      "metadata": {
        "id": "eEN2upZz9TUK",
        "colab_type": "text"
      },
      "cell_type": "markdown",
      "source": [
        "\n",
        "\n",
        "```\n",
        "**PART 2**\n",
        "```\n",
        "\n"
      ]
    },
    {
      "metadata": {
        "id": "NeC0jN48ulRJ",
        "colab_type": "code",
        "colab": {}
      },
      "cell_type": "code",
      "source": [
        "encoded_img = encoder.predict(X1_train) # Input to the next layer\n",
        "\n",
        "encoded_test= encoder.predict(X1_test)"
      ],
      "execution_count": 0,
      "outputs": []
    },
    {
      "metadata": {
        "id": "cn8VWoQM3Gcg",
        "colab_type": "code",
        "outputId": "474779e9-388e-49bf-8a44-fc7fd3a43ae4",
        "colab": {
          "base_uri": "https://localhost:8080/",
          "height": 69
        }
      },
      "cell_type": "code",
      "source": [
        "print(X1_train.shape)\n",
        "print(array(encoded_img).shape)\n",
        "\n",
        "print(y1_train.shape)"
      ],
      "execution_count": 0,
      "outputs": [
        {
          "output_type": "stream",
          "text": [
            "(12060, 28, 28, 1)\n",
            "(12060, 32)\n",
            "(12060, 10)\n"
          ],
          "name": "stdout"
        }
      ]
    },
    {
      "metadata": {
        "id": "xiG5cjKL5x17",
        "colab_type": "code",
        "colab": {}
      },
      "cell_type": "code",
      "source": [
        "Out_img = keras.Input((latent_dim,))\n",
        "#Out = layers.Dense(64, activation='softmax')(Out_img)\n",
        "Out = layers.Dense(10, activation='softmax')(Out_img)\n",
        "\n",
        "Part2 = Model(Out_img, Out)\n",
        "Part2.summary()\n",
        "Part2.compile(optimizer='rmsprop', loss=\"categorical_crossentropy\", metrics = ['accuracy'])\n",
        "Part2.fit(x=encoded_img, y=y1_train, batch_size= 64, epochs = 50)#, validation_data=(X1_test, y1_test))"
      ],
      "execution_count": 0,
      "outputs": []
    },
    {
      "metadata": {
        "id": "-gag2gVBJWnS",
        "colab_type": "code",
        "outputId": "ba46448e-c4fa-460e-c566-306f6456c6c5",
        "colab": {
          "base_uri": "https://localhost:8080/",
          "height": 34
        }
      },
      "cell_type": "code",
      "source": [
        "scores = Part2.evaluate(encoded_test, y1_test, verbose=0)\n",
        "print(scores)"
      ],
      "execution_count": 0,
      "outputs": [
        {
          "output_type": "stream",
          "text": [
            "[0.24464846319622463, 0.9314814814012059]\n"
          ],
          "name": "stdout"
        }
      ]
    },
    {
      "metadata": {
        "id": "8y7xAmAmPmlO",
        "colab_type": "text"
      },
      "cell_type": "markdown",
      "source": [
        "**2) Accuracy goes to 94% Testing in part 2 with One Input Layer, one hidden layer and one Output Layer\n",
        " The model gives around the same accuracy, 93% with just one input and one output layer.**"
      ]
    },
    {
      "metadata": {
        "id": "2TmWMuTbu_SG",
        "colab_type": "code",
        "colab": {}
      },
      "cell_type": "code",
      "source": [
        "\n",
        "model2 = Sequential()\n",
        "\n",
        "model2.add(Conv2D(filters = 32, kernel_size = (5,5),padding = 'Same', activation ='relu', input_shape = (28,28,1)))\n",
        "\n",
        "model2.add(MaxPool2D(pool_size=(2,2)))\n",
        "model2.add(Dropout(0.25))\n",
        "\n",
        "\n",
        "# model2.add(Conv2D(filters = 64, kernel_size = (3,3),padding = 'Same', \n",
        "#                  activation ='relu'))\n",
        "# model2.add(MaxPool2D(pool_size=(2,2), strides=(2,2)))\n",
        "# model2.add(Dropout(0.25))\n",
        "\n",
        "\n",
        "model2.add(Flatten())\n",
        "model2.add(Dense(256, activation = \"relu\"))\n",
        "model2.add(Dropout(0.5))\n",
        "model2.add(Dense(10, activation = \"softmax\"))"
      ],
      "execution_count": 0,
      "outputs": []
    },
    {
      "metadata": {
        "id": "JUrQrrhLvIi6",
        "colab_type": "code",
        "outputId": "ca2f22cc-2d25-4ca2-efd2-a694a99bda2a",
        "colab": {
          "base_uri": "https://localhost:8080/",
          "height": 746
        }
      },
      "cell_type": "code",
      "source": [
        "optimizer = RMSprop(lr=0.001, rho=0.9, epsilon=1e-08, decay=0.0)\n",
        "model2.compile(optimizer = optimizer , loss = \"categorical_crossentropy\", metrics=[\"accuracy\"])\n",
        "model2.summary()\n",
        "model2.fit(x=X_train, y=y_train, batch_size= 64, epochs = 10)#, validation_data=(X1_test, y1_test))"
      ],
      "execution_count": 0,
      "outputs": [
        {
          "output_type": "stream",
          "text": [
            "_________________________________________________________________\n",
            "Layer (type)                 Output Shape              Param #   \n",
            "=================================================================\n",
            "conv2d_6 (Conv2D)            (None, 28, 28, 32)        832       \n",
            "_________________________________________________________________\n",
            "max_pooling2d_1 (MaxPooling2 (None, 14, 14, 32)        0         \n",
            "_________________________________________________________________\n",
            "dropout_1 (Dropout)          (None, 14, 14, 32)        0         \n",
            "_________________________________________________________________\n",
            "flatten_2 (Flatten)          (None, 6272)              0         \n",
            "_________________________________________________________________\n",
            "dense_6 (Dense)              (None, 256)               1605888   \n",
            "_________________________________________________________________\n",
            "dropout_2 (Dropout)          (None, 256)               0         \n",
            "_________________________________________________________________\n",
            "dense_7 (Dense)              (None, 10)                2570      \n",
            "=================================================================\n",
            "Total params: 1,609,290\n",
            "Trainable params: 1,609,290\n",
            "Non-trainable params: 0\n",
            "_________________________________________________________________\n",
            "Epoch 1/10\n",
            "42000/42000 [==============================] - 7s 157us/step - loss: 0.2292 - acc: 0.9300\n",
            "Epoch 2/10\n",
            "42000/42000 [==============================] - 6s 149us/step - loss: 0.0850 - acc: 0.9742\n",
            "Epoch 3/10\n",
            "42000/42000 [==============================] - 6s 148us/step - loss: 0.0650 - acc: 0.9802\n",
            "Epoch 4/10\n",
            "42000/42000 [==============================] - 6s 147us/step - loss: 0.0575 - acc: 0.9833\n",
            "Epoch 5/10\n",
            "42000/42000 [==============================] - 6s 146us/step - loss: 0.0505 - acc: 0.9854\n",
            "Epoch 6/10\n",
            "42000/42000 [==============================] - 6s 146us/step - loss: 0.0478 - acc: 0.9860\n",
            "Epoch 7/10\n",
            "42000/42000 [==============================] - 6s 146us/step - loss: 0.0457 - acc: 0.9860\n",
            "Epoch 8/10\n",
            "42000/42000 [==============================] - 6s 147us/step - loss: 0.0434 - acc: 0.9880\n",
            "Epoch 9/10\n",
            "42000/42000 [==============================] - 6s 145us/step - loss: 0.0447 - acc: 0.9866\n",
            "Epoch 10/10\n",
            "42000/42000 [==============================] - 6s 144us/step - loss: 0.0419 - acc: 0.9875\n"
          ],
          "name": "stdout"
        },
        {
          "output_type": "execute_result",
          "data": {
            "text/plain": [
              "<keras.callbacks.History at 0x7fe72a8d5d30>"
            ]
          },
          "metadata": {
            "tags": []
          },
          "execution_count": 21
        }
      ]
    },
    {
      "metadata": {
        "id": "SqQc1PuVIuYU",
        "colab_type": "code",
        "outputId": "3eea92f2-e548-475c-8e69-9172cd09f423",
        "colab": {
          "base_uri": "https://localhost:8080/",
          "height": 86
        }
      },
      "cell_type": "code",
      "source": [
        "print(X_train.shape)\n",
        "print(X1_test.shape)\n",
        "print(y_train.shape)\n",
        "print(y1_test.shape)"
      ],
      "execution_count": 0,
      "outputs": [
        {
          "output_type": "stream",
          "text": [
            "(42000, 28, 28, 1)\n",
            "(5940, 28, 28, 1)\n",
            "(42000, 10)\n",
            "(5940, 10)\n"
          ],
          "name": "stdout"
        }
      ]
    },
    {
      "metadata": {
        "id": "7tlfcqY9vJ0k",
        "colab_type": "code",
        "outputId": "788505e3-e324-4755-afa9-56c1c53cb654",
        "colab": {
          "base_uri": "https://localhost:8080/",
          "height": 34
        }
      },
      "cell_type": "code",
      "source": [
        "scores = model2.evaluate(X1_test, y1_test, verbose=0)\n",
        "print(scores)"
      ],
      "execution_count": 0,
      "outputs": [
        {
          "output_type": "stream",
          "text": [
            "[0.05488636649267823, 0.9855218855218856]\n"
          ],
          "name": "stdout"
        }
      ]
    },
    {
      "metadata": {
        "id": "5sU0ltrXLoKF",
        "colab_type": "text"
      },
      "cell_type": "markdown",
      "source": [
        "**3) Changing the parameters for the CNN in Part 3 doesn't show much difference in the testing and training accuracy. The problem and the dataset are such that a neural network can easily model itself into a almost perfect predictor. The accuracy ranges from around 97 to 99, depending on the number of layers with more layers giving better results.**"
      ]
    },
    {
      "metadata": {
        "id": "EECx0AYDSzxJ",
        "colab_type": "text"
      },
      "cell_type": "markdown",
      "source": [
        "**4) The VAE model with the added Dense Layer gives us a testing accuracy of 94% while the simple CNN model gives us 98%. Although the loss in the VAE stands significantly higher at 22%, compared to the CNN loss of 5%. I believe that a simple CNN model should be preferred to a VAE in a case like this because it is a simple image classification problem without much complexity in features. The entire point of encoding images into lower dimensions and then expanding them is to learn to retain important features. However with simple digits, this in my opinion is needlessly complicating the task.\n",
        "I found that using more number of CNN in the encoder and decoder is useful and we are working with images and they are good at modeling the latent representation.**"
      ]
    }
  ]
}